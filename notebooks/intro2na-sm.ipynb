{
 "cells": [
  {
   "cell_type": "markdown",
   "metadata": {},
   "source": [
    "<DIV ALIGN=CENTER>\n",
    "\n",
    "# Introduction to Network Analysis: Social Media\n",
    "## Professor Robert J. Brunner\n",
    "  \n",
    "</DIV>  \n",
    "-----\n",
    "-----"
   ]
  },
  {
   "cell_type": "markdown",
   "metadata": {},
   "source": [
    "## Introduction\n",
    "\n",
    "In this IPython notebook, we build on the previous lessons in social media and network graph analysis to perform network graph analysis of twitter data. First, we will build a co-occurrence graph to indicate words (specifically hashtags) that are commonly used. Second, we will build a social graph and indicate directional associations (and possible natural groupings).\n",
    "\n",
    "Since we will be performing twitter API calls, the twitter rate limitation will be an issue. This notebook has been designed to minimize API calls; however, you might still face problems, especially if you rerun the notebook or sections of code repeatedly. First, we perform our standard imports and indicate that plots should be made inline.\n",
    "\n",
    "-----"
   ]
  },
  {
   "cell_type": "code",
   "execution_count": 1,
   "metadata": {
    "collapsed": false
   },
   "outputs": [],
   "source": [
    "# Set up Notebook\n",
    "\n",
    "% matplotlib inline\n",
    "\n",
    "# Standard imports\n",
    "import numpy as np\n",
    "import pandas as pd\n",
    "import matplotlib.pyplot as plt\n",
    "import seaborn as sns"
   ]
  },
  {
   "cell_type": "markdown",
   "metadata": {
    "collapsed": false
   },
   "source": [
    "-----\n",
    "\n",
    "## Build co-occurrence graph\n",
    "\n",
    "A co-occurrence graph connects words that occur together in a document, and are a special case of a [co-occurrence network][wcn]. In the example in this notebook, we will construct a co-occurrence graph of hashtags that occur together. As a string condition, we will search for tweets that contain the hashtag `#datascience`, and identify other hashtags that occur commonly with this same hashtag.\n",
    "\n",
    "First, we must authorize our twitter application. In this case, we reuse the credentials you obtained in Week8 (if you lost those credentials, you should be able to return to the [twitter application][taw] website and obtain them as outlined in the [Week8 twitter notebook][tnb]. We also explicitly create a connection to twitter that indicates the notebook should wait out the twitter rate limitation (in case we exceed the allowed rate limits).\n",
    "\n",
    "-----\n",
    "[wcn]: https://en.wikipedia.org/wiki/Co-occurrence_networks\n",
    "[taw]: https://apps.twitter.com\n",
    "[tnb]: ../../Week8/notebooks/intro2smt.ipynb"
   ]
  },
  {
   "cell_type": "code",
   "execution_count": 2,
   "metadata": {
    "collapsed": false
   },
   "outputs": [
    {
     "name": "stdout",
     "output_type": "stream",
     "text": [
      "Twitter Screen Name:  ProfBrunner\n",
      "Twitter Follower Count:  140\n"
     ]
    }
   ],
   "source": [
    "# Inspired by Fernando Perez's demo code:\n",
    "# https://gist.github.com/fperez/5681541\n",
    "import tweepy as tw\n",
    "\n",
    "# Order: Access Token, Access Token Secret, \n",
    "# Consumer Key, Consumer SecretAccess\n",
    "# You can change this to a different file location as appropriate\n",
    "cred_file = '../notebooks/twitter.cred'\n",
    "\n",
    "tokens = []\n",
    "\n",
    "with open(cred_file, 'r') as fin:\n",
    "    for line in fin:\n",
    "        if line[0] != '#': # Not a comment line\n",
    "            tokens.append(line.rstrip('\\n'))\n",
    "\n",
    "auth = tw.OAuthHandler(tokens[2], tokens[3])\n",
    "auth.set_access_token(tokens[0], tokens[1])\n",
    "\n",
    "api = tw.API(auth, \n",
    "             wait_on_rate_limit=True, \n",
    "             wait_on_rate_limit_notify=True)\n",
    "\n",
    "user = api.me()\n",
    "\n",
    "print(\"Twitter Screen Name: \", user.screen_name)\n",
    "print(\"Twitter Follower Count: \", user.followers_count)"
   ]
  },
  {
   "cell_type": "markdown",
   "metadata": {},
   "source": [
    "-----\n",
    "\n",
    "Now that our application has a connection to the Twitter API, we can perform our query. In this case, by default, we will request 2500 tweets that have the hashtag `#datascience`. From the results of this query, we build a list of tweet text that we parse to build up co-occurrence pairs. In the following two code cells, we display the total number of tweets, as well as the tweet with the maximum number of hashtags.\n",
    "\n",
    "-----"
   ]
  },
  {
   "cell_type": "code",
   "execution_count": 3,
   "metadata": {
    "collapsed": false
   },
   "outputs": [],
   "source": [
    "# Number of tweets to get\n",
    "# Note we will wait until we get them all, so keep small\n",
    "num_tweets = 2500\n",
    "\n",
    "# Search term: for us this is hashtag of interest\n",
    "s_term = '#datascience'\n",
    "\n",
    "# List we use throughout the first section of the the notebook\n",
    "tweets = []\n",
    "\n",
    "# Get the tweets\n",
    "results = tw.Cursor(api.search, q=s_term).items(num_tweets)\n",
    "\n",
    "# Build list from twitter search results\n",
    "for result in results:\n",
    "    tweets.append(result.text)"
   ]
  },
  {
   "cell_type": "code",
   "execution_count": 4,
   "metadata": {
    "collapsed": false
   },
   "outputs": [
    {
     "name": "stdout",
     "output_type": "stream",
     "text": [
      "Total number of tweets = 2500\n"
     ]
    }
   ],
   "source": [
    "print('Total number of tweets = {0}'.format(len(tweets)))"
   ]
  },
  {
   "cell_type": "code",
   "execution_count": 5,
   "metadata": {
    "collapsed": false
   },
   "outputs": [
    {
     "name": "stdout",
     "output_type": "stream",
     "text": [
      "Max hashtags in tweet (count = 12)\n",
      "------------------------------------------------------------\n",
      "RT @e2d3org: #E2D3 is an #Excel add-in for #dataviz. #datajournalizm #OSS #GitHub #javascript #HTML5 #statistics #edtech #data #datascience…\n"
     ]
    }
   ],
   "source": [
    "# Print tweet with most hashtags\n",
    "\n",
    "# Create list of hashtag counts\n",
    "cnts = [tweet.count('#') for tweet in tweets]\n",
    "\n",
    "# Find index of maximum entry\n",
    "max_cnt = max(cnts)\n",
    "max_idx = cnts.index(max_cnt)\n",
    "\n",
    "print('Max hashtags in tweet (count = {0})'.format(cnts[max_idx]))\n",
    "print(60*'-')\n",
    "print(tweets[max_idx])"
   ]
  },
  {
   "cell_type": "markdown",
   "metadata": {},
   "source": [
    "-----\n",
    "\n",
    "Given the list of tweets, we can now turn to building the co-occurrence graph. First, we tokenize each tweet, by searching for tokens that start with the `#` character. We strip off any trailing punctuation and turn all characters to lowercase. Next, we sort the list of tags, and add the list of tags to a set, which maintains an unordered collection of unique elements. Finally, we use the `combinations` method in `itertools` library to create all possible pairs of hashtags used in any tweet by using a `Counter` to accumulate the frequency with which hashtag pairs are found in all tweets. \n",
    "\n",
    "Thus, at the end of this code block, we have a set that contains all unique hashtags in any tweet, and a counter that has an occurrence count for every pair of hashtags over all tweets. We use these data collections in the following code cell to  display the total number of hashtags found and the tweet that contains the most hashtags.\n",
    "\n",
    "-----"
   ]
  },
  {
   "cell_type": "code",
   "execution_count": 6,
   "metadata": {
    "collapsed": false
   },
   "outputs": [
    {
     "name": "stdout",
     "output_type": "stream",
     "text": [
      "Total number of unique hashtags = 639\n",
      "Total number of paired tags = 3066\n",
      "Most common pair = ('bigdata', 'datascience'), occurs 1235 times.\n"
     ]
    }
   ],
   "source": [
    "# We use several techniques below, referenced in the following URLs\n",
    "#\n",
    "# https://docs.python.org/dev/library/collections.html#collections.Counter\n",
    "# https://docs.python.org/2/library/itertools.html#itertools.combinations\n",
    "# https://docs.python.org/3/library/string.html#string.punctuation\n",
    "\n",
    "from collections import Counter\n",
    "from itertools import combinations\n",
    "import string\n",
    "\n",
    "tkns = set()\n",
    "cnt = Counter()\n",
    "\n",
    "# Iterate over all tweets\n",
    "for tweet in tweets:\n",
    "    \n",
    "    # First, we use a list comprehension that extract hashtags\n",
    "    # We strip off leading '#', then remove trailing punctuation.\n",
    "    # And turn all characters to lowercase.\n",
    "    # Note this is not Unicode clean.\n",
    "    # Finally, we sort the list of tags (which will ensure the\n",
    "    # Counter works correctly)\n",
    "    \n",
    "    tags = sorted([tag.lstrip(\"#\").rstrip(string.punctuation).lower() \n",
    "            for tag in tweet.split() if tag.startswith(\"#\")])\n",
    "    \n",
    "    # We now build our set of tokens\n",
    "    \n",
    "    for tag in tags:\n",
    "        tkns.add(tag)\n",
    "            \n",
    "    # Next we use combinations from the itertools library \n",
    "    # to make a list of tag pairs. \n",
    "    # We then increment the counter for each paried tag\n",
    "\n",
    "    for paired_tags in combinations(tags, 2):\n",
    "        cnt[paired_tags] += 1\n",
    "\n",
    "# How many hashtags did we extract?\n",
    "print('Total number of unique hashtags = {0}'.format(len(tkns)))\n",
    "\n",
    "# Extract the top pair, list of tuples (pair, count)\n",
    "mc = cnt.most_common(1)[0]\n",
    "print('Total number of paired tags = {0}'.format(len(cnt)))\n",
    "print('Most common pair = {0}, occurs {1} times.'.format(mc[0], mc[1]))"
   ]
  },
  {
   "cell_type": "code",
   "execution_count": 7,
   "metadata": {
    "collapsed": false
   },
   "outputs": [
    {
     "name": "stdout",
     "output_type": "stream",
     "text": [
      "Total number of unique hashtags = 10\n",
      "\n",
      "Hashtags to graph:\n",
      "----------------------------------------\n",
      "{'analytics', 'ai', 'datascience', 'bigdata', 'deeplearning', 'ml', 'machinelearning', 'abdsc', 'iot', 'python'}\n"
     ]
    }
   ],
   "source": [
    "# Now we go through pair counter for top pairs to build a network.\n",
    "\n",
    "top_tkns = set()\n",
    "num_top_pairs = 25\n",
    "\n",
    "# Get most common pairs\n",
    "top_pairs = cnt.most_common(num_top_pairs)\n",
    "\n",
    "# Get most frequenly used tokens\n",
    "for pair, count in top_pairs:\n",
    "    top_tkns.add(pair[0])\n",
    "    top_tkns.add(pair[1])\n",
    "\n",
    "print('Total number of unique hashtags = {0}\\n'.format(len(top_tkns)))\n",
    "print('Hashtags to graph:')\n",
    "print(40*'-')\n",
    "print(top_tkns)"
   ]
  },
  {
   "cell_type": "markdown",
   "metadata": {},
   "source": [
    "-----\n",
    "\n",
    "Now that we have built the co-occurrence data collection, we can use the networkx library to build and display the co-occurrence graph. In this case, we have an undirected graph. We first set up our graph, which will be drawn by using the individual methods for drawing nodes, edges, and labels for maximum control of the layout. Next, we create the undirected graph, add the nodes from the `top_tkns` set, and add the edges (with appropriate weight values defined by the count of the occurrence of the pair). \n",
    "\n",
    "Next we layout the appearance of our graph, which in the first plot uses the `circular_layout`. We draw the nodes, before building up special lists to allow us to control the appearance of the edges. We do this so that we can set the width of each edge in the plot to be proportional to the weight (or number of times the pair of hashtags appeared). We normalize the widths so that the minimum count has width unity. Finally, we draw the edges and label the nodes. As the resulting plot demonstrates, certain pairs of hashtags occur quite commonly together, such as `datascience` and `bigdata`. \n",
    "\n",
    "-----"
   ]
  },
  {
   "cell_type": "code",
   "execution_count": 8,
   "metadata": {
    "collapsed": false
   },
   "outputs": [
    {
     "data": {
      "image/png": "[encoded data removed]",
      "text/plain": [
       "<matplotlib.figure.Figure at 0x7f96e8670390>"
      ]
     },
     "metadata": {},
     "output_type": "display_data"
    }
   ],
   "source": [
    "# First setup the current figure. \n",
    "# No Axes, no Axes labels, white background\n",
    "\n",
    "fig, axes = plt.subplots(figsize=(12, 12))\n",
    "\n",
    "clrs = sns.color_palette(\"Paired\")\n",
    "\n",
    "sns.set(style='white', font_scale=1.5)\n",
    "\n",
    "sns.despine(top = True, bottom = True, \n",
    "            left = True, right = True)\n",
    "\n",
    "axes.set_xticklabels([])\n",
    "axes.set_yticklabels([])\n",
    "\n",
    "# Build graph\n",
    "\n",
    "import networkx as nx\n",
    "\n",
    "g = nx.Graph()\n",
    "\n",
    "g.add_nodes_from(list(top_tkns))\n",
    "\n",
    "for pair, count in top_pairs:\n",
    "    g.add_edge(pair[0], pair[1], weight=count)\n",
    "\n",
    "# Now draw graph, use circular layout\n",
    "\n",
    "pos = nx.circular_layout(g)\n",
    "\n",
    "nx.draw_networkx_nodes(g, pos, with_labels=True,\n",
    "                       node_size = 3000,\n",
    "                       node_color=clrs[2],\n",
    "                       node_shape='H',\n",
    "                       alpha = 0.4)\n",
    "\n",
    "# Build up list of edges and weights for controlled plotting\n",
    "edges = []\n",
    "weights = []\n",
    "\n",
    "for n1, n2, dct in g.edges(data=True):\n",
    "    edges.append((n1, n2))\n",
    "    weights.append(dct['weight'])\n",
    "\n",
    "# Make normalized weights (scale to minimum weight)\n",
    "min_weight = min(weights)\n",
    "norm_weights = [int(weight/min_weight) for weight in weights]\n",
    "\n",
    "# Draw weighted edges, we pass in the edgelist so we can \n",
    "# also pass in the edge weights individually\n",
    "nx.draw_networkx_edges(g, pos, edgelist=edges, \n",
    "                       width = norm_weights, \n",
    "                       edge_color=clrs.as_hex()[4],\n",
    "                       alpha = 0.6)\n",
    "\n",
    "# Now label nodes, since we don't provide lables, it uses the \n",
    "# default labels (which is what we want)\n",
    "nx.draw_networkx_labels(g, pos, font_size = 18,\n",
    "                        font_color = clrs[1],\n",
    "                        alpha = 1.0)\n",
    "\n",
    "plt.title('Hashtag Co-Occurance Plot for #DataScience')\n",
    "plt.show()"
   ]
  },
  {
   "cell_type": "markdown",
   "metadata": {
    "collapsed": true
   },
   "source": [
    "-----\n",
    "\n",
    "### Student Activity\n",
    "\n",
    "In the preceding cells, we introduced the creation of a co-occurence graph. Now that you have run the Notebook, go back and make the following changes to see how the results change.\n",
    "\n",
    "1. Change the plot to use a `spring_layout`. Do you see any natural clustering? What does this tell you about the most commonly used hashtags?\n",
    "2. Replace the initial hashtag `datascience` with a hashtag of your own choice. Repeat the previous code cells, does your new plot make sense? \n",
    "3. Try using more tweets (i.e,, 2500 in the existing code) and most common tokens (i.e. 25 in the existing code). How do the results and plot change?\n",
    "\n",
    "-----\n",
    "\n",
    "## Social Graph\n",
    "\n",
    "As our second example, we will construct a social graph. In this case, we will start with the instructor (`ProfBrunner`), and his friends, which allows us to build a directed graph. Next, we will obtain the friends of his friends in order to identify bi-directional associations (i.e., user a follows user b and vice versa). If each user follows the other, we have a bi-directional edge; otherwise, we have a uni-directional edge.\n",
    "\n",
    "To get started, we reuse our existing API to build up a list of the initial user's friends. In order to minimize calls to the twitter API, we employ several tricks. First, we limit the number of friends at the start (to stay below the fifteen calls within an hour for friend searches). Second, we maintain our mapping between twitter id and screen name, which we construct when we grab the twitter id's for each friend of the initial user. \n",
    "\n",
    "-----"
   ]
  },
  {
   "cell_type": "code",
   "execution_count": null,
   "metadata": {
    "collapsed": false
   },
   "outputs": [
    {
     "name": "stdout",
     "output_type": "stream",
     "text": [
      "\n",
      "ProfBrunner follows:\n",
      "--------------\n",
      "adriancolyer\n",
      "hmason\n",
      "AlbCarrascal\n",
      "Dilbert_Daily\n",
      "xkcdComic\n",
      "ML_Hipster\n",
      "PHDcomics\n",
      "benorlin\n",
      "redpenblackpen\n",
      "Cmrn_DP\n",
      "AleyBrunner\n",
      "LauraFrerichs\n",
      "googleresearch\n",
      "jakevdp\n",
      "powersoffour\n",
      "NateSilver538\n",
      "flowingdata\n"
     ]
    }
   ],
   "source": [
    "#user = api.me()\n",
    "\n",
    "# Explicitly get instructor, can change.\n",
    "user = api.get_user('ProfBrunner')\n",
    "\n",
    "# We accumulate a list of ids for our friends\n",
    "my_friends = []\n",
    "\n",
    "# We map id to screen names to minimize twitter calls\n",
    "id2name = {}\n",
    "id2name[user.id] = user.screen_name\n",
    "\n",
    "# Note: I remove extra users to reduce chance of rate limits later.\n",
    "# The '*Fact' accounts don't follow peopel (in general)\n",
    "\n",
    "print('\\n{0} follows:\\n--------------'.format(user.screen_name))\n",
    "for friend in user.friends():\n",
    "    if 'Fact' not in friend.screen_name:\n",
    "        print(friend.screen_name)\n",
    "        my_friends.append(friend.id)\n",
    "        id2name[friend.id] = friend.screen_name"
   ]
  },
  {
   "cell_type": "markdown",
   "metadata": {},
   "source": [
    "-----\n",
    "\n",
    "Given the initial data, we now use the twitter API to grab the ids for all friends of the friends of the initial user. Note that this may take some time if rate limits have been exceeded at any point.\n",
    "\n",
    "-----"
   ]
  },
  {
   "cell_type": "code",
   "execution_count": null,
   "metadata": {
    "collapsed": false
   },
   "outputs": [
    {
     "name": "stdout",
     "output_type": "stream",
     "text": [
      "Finding friends for adriancolyer\n",
      "Found 293 friends.\n",
      "Finding friends for hmason\n",
      "Found 1403 friends.\n",
      "Finding friends for AlbCarrascal\n",
      "Found 442 friends.\n",
      "Finding friends for Dilbert_Daily\n",
      "Found 25 friends.\n",
      "Finding friends for xkcdComic\n",
      "Found 1 friends.\n",
      "Finding friends for ML_Hipster\n",
      "Found 0 friends.\n",
      "Finding friends for PHDcomics\n",
      "Found 80 friends.\n",
      "Finding friends for benorlin\n",
      "Found 169 friends.\n",
      "Finding friends for redpenblackpen\n",
      "Found 39 friends.\n",
      "Finding friends for Cmrn_DP\n",
      "Found 795 friends.\n",
      "Finding friends for AleyBrunner\n",
      "Found 343 friends.\n",
      "Finding friends for LauraFrerichs\n",
      "Found 476 friends.\n",
      "Finding friends for googleresearch\n",
      "Found 19 friends.\n",
      "Finding friends for jakevdp\n",
      "Found 324 friends.\n",
      "Finding friends for powersoffour\n",
      "Found 1052 friends.\n",
      "Finding friends for NateSilver538\n",
      "Rate limit reached. Sleeping for: 896\n"
     ]
    }
   ],
   "source": [
    "# To minimize twitter API calls, we grab the friend ids for all of the\n",
    "# current user's friends. This needs to be less than 15 or we can hit\n",
    "# rate limits. Also, don't rerun frequently, or you may hit rate limits.\n",
    "\n",
    "ids2ids = {}\n",
    "ids2ids[user.id] = my_friends\n",
    "\n",
    "# We loop over our friends. We could limit this to first n (n < 15) to\n",
    "# minimize any chance of hitting a rate limits\n",
    "\n",
    "for friend in my_friends:\n",
    "    \n",
    "    print('Finding friends for {0}'.format(id2name[friend]))\n",
    "    \n",
    "    ids2ids[friend] = api.friends_ids(friend)\n",
    "    \n",
    "    print('Found {0} friends.'.format(len(ids2ids[friend])))"
   ]
  },
  {
   "cell_type": "markdown",
   "metadata": {},
   "source": [
    "-----\n",
    "\n",
    "Now that we have a mapping between friend id and the ids of the friends of the friend, we can build a directed social graph. This social graph will only contain nodes for the initial user and the direct friends of the initial user. This will limit both twitter calls, and the size of the graph. To make this graph, we first create the directed graph, and add a node for the initial user. Next, we step through the ids of the user's friends; and inside this loop, we step through the friend of friend ids for the current friend to identify any associations back to the original list of friends. As we find matches, we add an edge to the graph as appropriate. \n",
    "\n",
    "Note that when we add a link between _user a_ and _user b_, any nodes not yet in existence will be created. Also, when we add a second link between _user b_ and _user a_, the edge between these two nodes becomes bi-directional.\n",
    "\n",
    "-----"
   ]
  },
  {
   "cell_type": "code",
   "execution_count": null,
   "metadata": {
    "collapsed": false
   },
   "outputs": [],
   "source": [
    "# Now we use the cached friends ids and the \n",
    "# dictionary mapping between ids and names\n",
    "# to build edges in the directed graph.\n",
    "\n",
    "# Make a copy of the ids, and add the current user id\n",
    "# Doing this means we can find bi-directional edges\n",
    "ids = my_friends.copy()\n",
    "ids.append(user.id)\n",
    "\n",
    "# Create directed graph and add first node\n",
    "dg = nx.DiGraph()\n",
    "dg.add_node(user.screen_name)\n",
    "\n",
    "# Find edges in social graph and add to the graph.\n",
    "# We find friends of friends (fof) in the retreived ids\n",
    "for id in ids:\n",
    "    for fof in ids2ids[id]:\n",
    "        if fof in ids:\n",
    "            dg.add_edge(id2name[id], id2name[fof])"
   ]
  },
  {
   "cell_type": "markdown",
   "metadata": {},
   "source": [
    "-----\n",
    "\n",
    "With the directed graph created, we can now draw the graph. As we did in the first demonstration in this notebook, we first set up the plot, before drawing the individual components. This first visualization follows the previous graph visualization in drawing nodes, edges and labels separately.\n",
    "\n",
    "-----"
   ]
  },
  {
   "cell_type": "code",
   "execution_count": null,
   "metadata": {
    "collapsed": false
   },
   "outputs": [],
   "source": [
    "# First setup the current figure. \n",
    "# No axes, no Axes labels, white background\n",
    "\n",
    "fig, axes = plt.subplots(figsize=(12, 12))\n",
    "\n",
    "clrs = sns.color_palette(\"Paired\")\n",
    "\n",
    "sns.set(style='white', font_scale=1.5)\n",
    "\n",
    "sns.despine(top = True, bottom = True, \n",
    "            left = True, right = True)\n",
    "\n",
    "axes.set_xticklabels([])\n",
    "axes.set_yticklabels([])\n",
    "\n",
    "# Now draw graph, use circular layout\n",
    "\n",
    "#pos = nx.spring_layout(dg)\n",
    "pos = nx.circular_layout(dg)\n",
    "\n",
    "# Draw the nodes\n",
    "nx.draw_networkx_nodes(dg, pos, with_labels=True,\n",
    "                       node_size = 2000,\n",
    "                       node_color=clrs[2],\n",
    "                       node_shape='H',\n",
    "                       alpha = 0.4)\n",
    "\n",
    "# Draw the edges, all use the same widths.\n",
    "nx.draw_networkx_edges(dg, pos,\n",
    "                       width = 1,\n",
    "                       edge_color=clrs.as_hex()[4],\n",
    "                       alpha = 0.6)\n",
    "\n",
    "# Add the labels\n",
    "nx.draw_networkx_labels(dg, pos, font_size = 14,\n",
    "                        font_color = clrs[1],\n",
    "                        alpha = 1.0)\n",
    "\n",
    "plt.title('Social connections for {0}'.format(user.screen_name))\n",
    "plt.show()"
   ]
  },
  {
   "cell_type": "markdown",
   "metadata": {},
   "source": [
    "-----\n",
    "\n",
    "While the circular layout allows the nodes to be easily visualized, it complicates the visualization of relationships between the nodes. In this case, we can change the graph plot layout, to better reflect natural groupings. The following code cell shows this by using the `spring_layout`, which in this case highlight natural groupings between the nodes.\n",
    "\n",
    "----"
   ]
  },
  {
   "cell_type": "code",
   "execution_count": null,
   "metadata": {
    "collapsed": false
   },
   "outputs": [],
   "source": [
    "# First setup the current figure. \n",
    "# No axes, no Axes labels, white background\n",
    "\n",
    "fig, axes = plt.subplots(figsize=(12, 12))\n",
    "\n",
    "clrs = sns.color_palette(\"Paired\")\n",
    "\n",
    "sns.set(style='white', font_scale=1.5)\n",
    "\n",
    "sns.despine(top = True, bottom = True, \n",
    "            left = True, right = True)\n",
    "\n",
    "axes.set_xticklabels([])\n",
    "axes.set_yticklabels([])\n",
    "\n",
    "# Now draw graph, use spring layout\n",
    "\n",
    "pos = nx.spring_layout(dg)\n",
    "\n",
    "# Draw the nodes\n",
    "nx.draw_networkx_nodes(dg, pos, with_labels=True,\n",
    "                       node_size = 2000,\n",
    "                       node_color=clrs[2],\n",
    "                       node_shape='H',\n",
    "                       alpha = 0.4)\n",
    "\n",
    "# Draw the edges, with the same width\n",
    "nx.draw_networkx_edges(dg, pos,\n",
    "                       width = 1,\n",
    "                       edge_color=clrs.as_hex()[4],\n",
    "                       alpha = 0.6)\n",
    "\n",
    "# Label the nodes\n",
    "nx.draw_networkx_labels(dg, pos, font_size = 14,\n",
    "                        font_color = clrs[1],\n",
    "                        alpha = 1.0)\n",
    "\n",
    "plt.title('Social connections for {0}'.format(user.screen_name))\n",
    "plt.show()"
   ]
  },
  {
   "cell_type": "markdown",
   "metadata": {},
   "source": [
    "-----\n",
    "\n",
    "### Student Activity\n",
    "\n",
    "In the preceding cells, we introduced the concept of a social graph and constructed one by using the twitter data for the course instructor. Now that you have run the Notebook, go back and make the following changes to see how the results change.\n",
    "\n",
    "1. Change the initial user to someone else, perhaps yourself or to a famous celebrity. You will likely want to limit the number of friends followed to reduce the impact of the twitter rate limit (or let the code run overnight. What does the social graph tell you?\n",
    "2. Try changing the weight of an edge to reflect the number of retweets between any two users.\n",
    "3. Try analyzing the social graph to find the `radius`, `center`,  `diameter`, `eccentricity`, and `density`.\n",
    "\n",
    "-----"
   ]
  }
 ],
 "metadata": {
  "kernelspec": {
   "display_name": "Python 3",
   "language": "python",
   "name": "python3"
  },
  "language_info": {
   "codemirror_mode": {
    "name": "ipython",
    "version": 3
   },
   "file_extension": ".py",
   "mimetype": "text/x-python",
   "name": "python",
   "nbconvert_exporter": "python",
   "pygments_lexer": "ipython3",
   "version": "3.5.2"
  }
 },
 "nbformat": 4,
 "nbformat_minor": 0
}
